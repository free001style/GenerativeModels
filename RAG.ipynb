{
 "cells": [
  {
   "cell_type": "markdown",
   "metadata": {
    "id": "j22SuuTnrrzV"
   },
   "source": [
    "# Домашка 5. LLM и RAG\n",
    "\n",
    "В этой домашке вам предстоит сделать чат-бота-врача, используя технику RAG (Retrieval-Augmented-Generation) и фреймворки huggingface и LangChain"
   ]
  },
  {
   "cell_type": "code",
   "execution_count": 1,
   "metadata": {
    "id": "nIru9yR7rOw7"
   },
   "outputs": [],
   "source": [
    "# !pip3 install datasets langchain_community langchain_chroma langchain langchain_core tiktoken sentence-transformers==2.2.2 lark InstructorEmbedding bitsandbytes accelerate >> /dev/null"
   ]
  },
  {
   "cell_type": "markdown",
   "metadata": {
    "id": "T3g8DpPK-q8Z"
   },
   "source": [
    "### Задание 1. Чтение и индексация данных (2.5 балла)"
   ]
  },
  {
   "cell_type": "code",
   "execution_count": 3,
   "metadata": {},
   "outputs": [],
   "source": [
    "# import pandas as pd\n",
    "\n",
    "# f = pd.read_csv('/Users/free001style/medal_train.csv')\n",
    "# f[['TEXT', 'LABEL']].to_csv('medal1.csv')"
   ]
  },
  {
   "cell_type": "code",
   "execution_count": 36,
   "metadata": {
    "ExecuteTime": {
     "end_time": "2024-05-02T13:40:23.137908Z",
     "start_time": "2024-05-02T13:40:22.965575Z"
    },
    "id": "jyvBfwPbrROf"
   },
   "outputs": [],
   "source": [
    "from langchain_community.document_loaders.csv_loader import CSVLoader\n",
    "\n",
    "\n",
    "FILE_PATH = '/Users/free001style/Library/Mobile Documents/com~apple~CloudDocs/HSE/HSE_/GANs/LLM/medal.csv'\n",
    "docs = CSVLoader(FILE_PATH).load()"
   ]
  },
  {
   "cell_type": "code",
   "execution_count": 37,
   "metadata": {
    "ExecuteTime": {
     "end_time": "2024-05-02T13:40:29.643289Z",
     "start_time": "2024-05-02T13:40:26.572465Z"
    },
    "id": "sLTqde5qEJfd"
   },
   "outputs": [
    {
     "name": "stdout",
     "output_type": "stream",
     "text": [
      "load INSTRUCTOR_Transformer\n",
      "max_seq_length  512\n"
     ]
    }
   ],
   "source": [
    "from langchain.embeddings import HuggingFaceInstructEmbeddings\n",
    "\n",
    "emb_model = HuggingFaceInstructEmbeddings(\n",
    "    model_name=\"sentence-transformers/all-mpnet-base-v2\",\n",
    "    model_kwargs={'device': 'cpu'},\n",
    "    encode_kwargs={'normalize_embeddings': False}\n",
    ")"
   ]
  },
  {
   "cell_type": "code",
   "execution_count": 38,
   "metadata": {
    "ExecuteTime": {
     "end_time": "2024-05-02T13:43:43.880306Z",
     "start_time": "2024-05-02T13:40:32.437207Z"
    },
    "id": "gZ-1ZrUzJWhA"
   },
   "outputs": [],
   "source": [
    "from langchain.vectorstores import Chroma\n",
    "\n",
    "persist_directory = 'DB'\n",
    "vectordb = Chroma.from_documents(documents=docs, embedding=emb_model, persist_directory=persist_directory)\n",
    "vectordb.persist()"
   ]
  },
  {
   "cell_type": "code",
   "execution_count": 39,
   "metadata": {
    "ExecuteTime": {
     "end_time": "2024-05-02T13:47:46.600883Z",
     "start_time": "2024-05-02T13:43:48.654116Z"
    },
    "id": "UHH8Uc2wXmok"
   },
   "outputs": [
    {
     "name": "stderr",
     "output_type": "stream",
     "text": [
      "100%|██████████| 2000/2000 [03:55<00:00,  8.50it/s]\n"
     ]
    }
   ],
   "source": [
    "from tqdm.auto import tqdm\n",
    "\n",
    "N_DOCS=2000\n",
    "\n",
    "for i, doc in tqdm(enumerate(docs), total=N_DOCS):\n",
    "\tvectordb.add_documents([doc])\n",
    "\n",
    "vectordb.persist()"
   ]
  },
  {
   "cell_type": "code",
   "execution_count": 40,
   "metadata": {
    "ExecuteTime": {
     "end_time": "2024-05-02T13:48:17.839336Z",
     "start_time": "2024-05-02T13:48:17.684997Z"
    },
    "id": "P29GglF4OPla"
   },
   "outputs": [
    {
     "name": "stdout",
     "output_type": "stream",
     "text": [
      "total 953744\n",
      "-rw-r--r--@ 1 free001style  staff   462M May  6 02:09 chroma.sqlite3\n",
      "drwxr-xr-x  7 free001style  staff   224B May  6 02:08 \u001b[34m53fdc3f6-c0a6-4d95-87b5-ebd2b5a6c11c\u001b[m\u001b[m\n"
     ]
    },
    {
     "name": "stderr",
     "output_type": "stream",
     "text": [
      "huggingface/tokenizers: The current process just got forked, after parallelism has already been used. Disabling parallelism to avoid deadlocks...\n",
      "To disable this warning, you can either:\n",
      "\t- Avoid using `tokenizers` before the fork if possible\n",
      "\t- Explicitly set the environment variable TOKENIZERS_PARALLELISM=(true | false)\n"
     ]
    }
   ],
   "source": [
    "!ls -lht DB"
   ]
  },
  {
   "cell_type": "code",
   "execution_count": 53,
   "metadata": {
    "ExecuteTime": {
     "end_time": "2024-05-02T13:48:23.107801Z",
     "start_time": "2024-05-02T13:48:22.538758Z"
    },
    "id": "a97VlH8Qco-N"
   },
   "outputs": [
    {
     "name": "stderr",
     "output_type": "stream",
     "text": [
      "llama_model_loader: loaded meta data with 24 key-value pairs and 291 tensors from /Users/free001style/Library/Mobile Documents/com~apple~CloudDocs/HSE/HSE_/GANs/LLM/mistral-7b-instruct-v0.2.Q4_K_M.gguf (version GGUF V3 (latest))\n",
      "llama_model_loader: Dumping metadata keys/values. Note: KV overrides do not apply in this output.\n",
      "llama_model_loader: - kv   0:                       general.architecture str              = llama\n"
     ]
    },
    {
     "name": "stderr",
     "output_type": "stream",
     "text": [
      "llama_model_loader: - kv   1:                               general.name str              = mistralai_mistral-7b-instruct-v0.2\n",
      "llama_model_loader: - kv   2:                       llama.context_length u32              = 32768\n",
      "llama_model_loader: - kv   3:                     llama.embedding_length u32              = 4096\n",
      "llama_model_loader: - kv   4:                          llama.block_count u32              = 32\n",
      "llama_model_loader: - kv   5:                  llama.feed_forward_length u32              = 14336\n",
      "llama_model_loader: - kv   6:                 llama.rope.dimension_count u32              = 128\n",
      "llama_model_loader: - kv   7:                 llama.attention.head_count u32              = 32\n",
      "llama_model_loader: - kv   8:              llama.attention.head_count_kv u32              = 8\n",
      "llama_model_loader: - kv   9:     llama.attention.layer_norm_rms_epsilon f32              = 0.000010\n",
      "llama_model_loader: - kv  10:                       llama.rope.freq_base f32              = 1000000.000000\n",
      "llama_model_loader: - kv  11:                          general.file_type u32              = 15\n",
      "llama_model_loader: - kv  12:                       tokenizer.ggml.model str              = llama\n",
      "llama_model_loader: - kv  13:                      tokenizer.ggml.tokens arr[str,32000]   = [\"<unk>\", \"<s>\", \"</s>\", \"<0x00>\", \"<...\n",
      "llama_model_loader: - kv  14:                      tokenizer.ggml.scores arr[f32,32000]   = [0.000000, 0.000000, 0.000000, 0.0000...\n",
      "llama_model_loader: - kv  15:                  tokenizer.ggml.token_type arr[i32,32000]   = [2, 3, 3, 6, 6, 6, 6, 6, 6, 6, 6, 6, ...\n",
      "llama_model_loader: - kv  16:                tokenizer.ggml.bos_token_id u32              = 1\n",
      "llama_model_loader: - kv  17:                tokenizer.ggml.eos_token_id u32              = 2\n",
      "llama_model_loader: - kv  18:            tokenizer.ggml.unknown_token_id u32              = 0\n",
      "llama_model_loader: - kv  19:            tokenizer.ggml.padding_token_id u32              = 0\n",
      "llama_model_loader: - kv  20:               tokenizer.ggml.add_bos_token bool             = true\n",
      "llama_model_loader: - kv  21:               tokenizer.ggml.add_eos_token bool             = false\n",
      "llama_model_loader: - kv  22:                    tokenizer.chat_template str              = {{ bos_token }}{% for message in mess...\n",
      "llama_model_loader: - kv  23:               general.quantization_version u32              = 2\n",
      "llama_model_loader: - type  f32:   65 tensors\n",
      "llama_model_loader: - type q4_K:  193 tensors\n",
      "llama_model_loader: - type q6_K:   33 tensors\n",
      "llm_load_vocab: special tokens definition check successful ( 259/32000 ).\n",
      "llm_load_print_meta: format           = GGUF V3 (latest)\n",
      "llm_load_print_meta: arch             = llama\n",
      "llm_load_print_meta: vocab type       = SPM\n",
      "llm_load_print_meta: n_vocab          = 32000\n",
      "llm_load_print_meta: n_merges         = 0\n",
      "llm_load_print_meta: n_ctx_train      = 32768\n",
      "llm_load_print_meta: n_embd           = 4096\n",
      "llm_load_print_meta: n_head           = 32\n",
      "llm_load_print_meta: n_head_kv        = 8\n",
      "llm_load_print_meta: n_layer          = 32\n",
      "llm_load_print_meta: n_rot            = 128\n",
      "llm_load_print_meta: n_embd_head_k    = 128\n",
      "llm_load_print_meta: n_embd_head_v    = 128\n",
      "llm_load_print_meta: n_gqa            = 4\n",
      "llm_load_print_meta: n_embd_k_gqa     = 1024\n",
      "llm_load_print_meta: n_embd_v_gqa     = 1024\n",
      "llm_load_print_meta: f_norm_eps       = 0.0e+00\n",
      "llm_load_print_meta: f_norm_rms_eps   = 1.0e-05\n",
      "llm_load_print_meta: f_clamp_kqv      = 0.0e+00\n",
      "llm_load_print_meta: f_max_alibi_bias = 0.0e+00\n",
      "llm_load_print_meta: f_logit_scale    = 0.0e+00\n",
      "llm_load_print_meta: n_ff             = 14336\n",
      "llm_load_print_meta: n_expert         = 0\n",
      "llm_load_print_meta: n_expert_used    = 0\n",
      "llm_load_print_meta: causal attn      = 1\n",
      "llm_load_print_meta: pooling type     = 0\n",
      "llm_load_print_meta: rope type        = 0\n",
      "llm_load_print_meta: rope scaling     = linear\n",
      "llm_load_print_meta: freq_base_train  = 1000000.0\n",
      "llm_load_print_meta: freq_scale_train = 1\n",
      "llm_load_print_meta: n_yarn_orig_ctx  = 32768\n",
      "llm_load_print_meta: rope_finetuned   = unknown\n",
      "llm_load_print_meta: ssm_d_conv       = 0\n",
      "llm_load_print_meta: ssm_d_inner      = 0\n",
      "llm_load_print_meta: ssm_d_state      = 0\n",
      "llm_load_print_meta: ssm_dt_rank      = 0\n",
      "llm_load_print_meta: model type       = 8B\n",
      "llm_load_print_meta: model ftype      = Q4_K - Medium\n",
      "llm_load_print_meta: model params     = 7.24 B\n",
      "llm_load_print_meta: model size       = 4.07 GiB (4.83 BPW) \n",
      "llm_load_print_meta: general.name     = mistralai_mistral-7b-instruct-v0.2\n",
      "llm_load_print_meta: BOS token        = 1 '<s>'\n",
      "llm_load_print_meta: EOS token        = 2 '</s>'\n",
      "llm_load_print_meta: UNK token        = 0 '<unk>'\n",
      "llm_load_print_meta: PAD token        = 0 '<unk>'\n",
      "llm_load_print_meta: LF token         = 13 '<0x0A>'\n",
      "llm_load_tensors: ggml ctx size =    0.30 MiB\n",
      "ggml_backend_metal_log_allocated_size: allocated buffer, size =  4095.08 MiB, (12865.22 / 12288.02)ggml_backend_metal_log_allocated_size: warning: current allocated size is greater than the recommended max working set size\n",
      "llm_load_tensors: offloading 32 repeating layers to GPU\n",
      "llm_load_tensors: offloading non-repeating layers to GPU\n",
      "llm_load_tensors: offloaded 33/33 layers to GPU\n",
      "llm_load_tensors:        CPU buffer size =    70.31 MiB\n",
      "llm_load_tensors:      Metal buffer size =  4095.07 MiB\n",
      ".................................................................................................\n",
      "llama_new_context_with_model: n_ctx      = 4096\n",
      "llama_new_context_with_model: n_batch    = 512\n",
      "llama_new_context_with_model: n_ubatch   = 512\n",
      "llama_new_context_with_model: flash_attn = 0\n",
      "llama_new_context_with_model: freq_base  = 10000.0\n",
      "llama_new_context_with_model: freq_scale = 1\n",
      "ggml_metal_init: allocating\n",
      "ggml_metal_init: found device: Apple M3 Pro\n",
      "ggml_metal_init: picking default device: Apple M3 Pro\n",
      "ggml_metal_init: using embedded metal library\n",
      "ggml_metal_init: GPU name:   Apple M3 Pro\n",
      "ggml_metal_init: GPU family: MTLGPUFamilyApple9  (1009)\n",
      "ggml_metal_init: GPU family: MTLGPUFamilyCommon3 (3003)\n",
      "ggml_metal_init: GPU family: MTLGPUFamilyMetal3  (5001)\n",
      "ggml_metal_init: simdgroup reduction support   = true\n",
      "ggml_metal_init: simdgroup matrix mul. support = true\n",
      "ggml_metal_init: hasUnifiedMemory              = true\n",
      "ggml_metal_init: recommendedMaxWorkingSetSize  = 12884.92 MB\n",
      "llama_kv_cache_init:      Metal KV buffer size =   512.00 MiB\n",
      "llama_new_context_with_model: KV self size  =  512.00 MiB, K (f16):  256.00 MiB, V (f16):  256.00 MiB\n",
      "llama_new_context_with_model:        CPU  output buffer size =     0.12 MiB\n",
      "llama_new_context_with_model:      Metal compute buffer size =   296.00 MiB\n",
      "llama_new_context_with_model:        CPU compute buffer size =    16.01 MiB\n",
      "llama_new_context_with_model: graph nodes  = 1030\n",
      "llama_new_context_with_model: graph splits = 2\n",
      "AVX = 0 | AVX_VNNI = 0 | AVX2 = 0 | AVX512 = 0 | AVX512_VBMI = 0 | AVX512_VNNI = 0 | FMA = 0 | NEON = 1 | ARM_FMA = 1 | F16C = 0 | FP16_VA = 1 | WASM_SIMD = 0 | BLAS = 1 | SSE3 = 0 | SSSE3 = 0 | VSX = 0 | MATMUL_INT8 = 0 | LLAMAFILE = 1 | \n",
      "Model metadata: {'general.quantization_version': '2', 'tokenizer.chat_template': \"{{ bos_token }}{% for message in messages %}{% if (message['role'] == 'user') != (loop.index0 % 2 == 0) %}{{ raise_exception('Conversation roles must alternate user/assistant/user/assistant/...') }}{% endif %}{% if message['role'] == 'user' %}{{ '[INST] ' + message['content'] + ' [/INST]' }}{% elif message['role'] == 'assistant' %}{{ message['content'] + eos_token}}{% else %}{{ raise_exception('Only user and assistant roles are supported!') }}{% endif %}{% endfor %}\", 'tokenizer.ggml.add_eos_token': 'false', 'tokenizer.ggml.add_bos_token': 'true', 'tokenizer.ggml.padding_token_id': '0', 'tokenizer.ggml.unknown_token_id': '0', 'tokenizer.ggml.eos_token_id': '2', 'tokenizer.ggml.bos_token_id': '1', 'tokenizer.ggml.model': 'llama', 'llama.attention.head_count_kv': '8', 'llama.context_length': '32768', 'llama.attention.head_count': '32', 'llama.rope.freq_base': '1000000.000000', 'llama.rope.dimension_count': '128', 'general.file_type': '15', 'llama.feed_forward_length': '14336', 'llama.embedding_length': '4096', 'llama.block_count': '32', 'general.architecture': 'llama', 'llama.attention.layer_norm_rms_epsilon': '0.000010', 'general.name': 'mistralai_mistral-7b-instruct-v0.2'}\n",
      "Guessed chat format: mistral-instruct\n"
     ]
    }
   ],
   "source": [
    "from langchain_core.callbacks import CallbackManager, StreamingStdOutCallbackHandler\n",
    "from langchain_community.llms import LlamaCpp\n",
    "\n",
    "llm = LlamaCpp(\n",
    "    model_path=\"/Users/free001style/Library/Mobile Documents/com~apple~CloudDocs/HSE/HSE_/GANs/LLM/mistral-7b-instruct-v0.2.Q4_K_M.gguf\",\n",
    "    n_gpu_layers=-1,\n",
    "    n_batch=512,\n",
    "    n_ctx=4096,\n",
    "    f16_kv=True,\n",
    "    callback_manager=CallbackManager([StreamingStdOutCallbackHandler()]),\n",
    "    verbose=True,\n",
    ")\n",
    "\n",
    "retriever = vectordb.as_retriever()"
   ]
  },
  {
   "cell_type": "code",
   "execution_count": 47,
   "metadata": {
    "ExecuteTime": {
     "end_time": "2024-05-02T13:48:28.787031Z",
     "start_time": "2024-05-02T13:48:28.623308Z"
    },
    "id": "n9n3n0irnHf3"
   },
   "outputs": [
    {
     "data": {
      "text/plain": [
       "[Document(page_content=': 5\\nTEXT: gb virus c gbvc or HGV hgv is transmitted by the parenteral route but the importance of sexual transmission needs to be ascertained gbvchgv infections were investigated using rna and eantibody PCD methods in subjects INF by the HIV-1 hiv divided into groups of individuals each according to their main risk factor for hiv infection blood product recipients group intravenous drug users group homosexuals group or heterosexual SE group the overall prevalence of gbvchgv infection was no significant difference was observed in gbvc hgv prevalence among the four CG and in CG and respectively hepatitis c virus hcv antibodies used as a control for parenteral exposure were found in and of the subjects in groups and versus only and of the subjects in groups and respectively p similarly coinfections with gbvchgv and hcv were significantly associated with the parenteral route p these data emphasized the usefulness of combining the detection of rna and the e antibody to determine the actual prevalence of gbvchgv infection the high prevalence of the gbvchgv markers among the HIV+ subjects especially those with sexual exposure provides additional evidence that this route of transmission plays a key role in the epidemiology of gbvchgv the potential influence of gbvchgv infection on the course of hiv disease needs further DUE\\nLABEL: hepatitis g virus', metadata={'row': 5, 'source': '/Users/free001style/Library/Mobile Documents/com~apple~CloudDocs/HSE/HSE_/GANs/LLM/medal.csv'}),\n",
       " Document(page_content=': 5\\nTEXT: gb virus c gbvc or HGV hgv is transmitted by the parenteral route but the importance of sexual transmission needs to be ascertained gbvchgv infections were investigated using rna and eantibody PCD methods in subjects INF by the HIV-1 hiv divided into groups of individuals each according to their main risk factor for hiv infection blood product recipients group intravenous drug users group homosexuals group or heterosexual SE group the overall prevalence of gbvchgv infection was no significant difference was observed in gbvc hgv prevalence among the four CG and in CG and respectively hepatitis c virus hcv antibodies used as a control for parenteral exposure were found in and of the subjects in groups and versus only and of the subjects in groups and respectively p similarly coinfections with gbvchgv and hcv were significantly associated with the parenteral route p these data emphasized the usefulness of combining the detection of rna and the e antibody to determine the actual prevalence of gbvchgv infection the high prevalence of the gbvchgv markers among the HIV+ subjects especially those with sexual exposure provides additional evidence that this route of transmission plays a key role in the epidemiology of gbvchgv the potential influence of gbvchgv infection on the course of hiv disease needs further DUE\\nLABEL: hepatitis g virus', metadata={'row': 5, 'source': '/Users/free001style/Library/Mobile Documents/com~apple~CloudDocs/HSE/HSE_/GANs/LLM/medal.csv'}),\n",
       " Document(page_content=': 5\\nTEXT: gb virus c gbvc or HGV hgv is transmitted by the parenteral route but the importance of sexual transmission needs to be ascertained gbvchgv infections were investigated using rna and eantibody PCD methods in subjects INF by the HIV-1 hiv divided into groups of individuals each according to their main risk factor for hiv infection blood product recipients group intravenous drug users group homosexuals group or heterosexual SE group the overall prevalence of gbvchgv infection was no significant difference was observed in gbvc hgv prevalence among the four CG and in CG and respectively hepatitis c virus hcv antibodies used as a control for parenteral exposure were found in and of the subjects in groups and versus only and of the subjects in groups and respectively p similarly coinfections with gbvchgv and hcv were significantly associated with the parenteral route p these data emphasized the usefulness of combining the detection of rna and the e antibody to determine the actual prevalence of gbvchgv infection the high prevalence of the gbvchgv markers among the HIV+ subjects especially those with sexual exposure provides additional evidence that this route of transmission plays a key role in the epidemiology of gbvchgv the potential influence of gbvchgv infection on the course of hiv disease needs further DUE\\nLABEL: hepatitis g virus', metadata={'row': 5, 'source': '/Users/free001style/Library/Mobile Documents/com~apple~CloudDocs/HSE/HSE_/GANs/LLM/medal.csv'}),\n",
       " Document(page_content=': 5\\nTEXT: gb virus c gbvc or HGV hgv is transmitted by the parenteral route but the importance of sexual transmission needs to be ascertained gbvchgv infections were investigated using rna and eantibody PCD methods in subjects INF by the HIV-1 hiv divided into groups of individuals each according to their main risk factor for hiv infection blood product recipients group intravenous drug users group homosexuals group or heterosexual SE group the overall prevalence of gbvchgv infection was no significant difference was observed in gbvc hgv prevalence among the four CG and in CG and respectively hepatitis c virus hcv antibodies used as a control for parenteral exposure were found in and of the subjects in groups and versus only and of the subjects in groups and respectively p similarly coinfections with gbvchgv and hcv were significantly associated with the parenteral route p these data emphasized the usefulness of combining the detection of rna and the e antibody to determine the actual prevalence of gbvchgv infection the high prevalence of the gbvchgv markers among the HIV+ subjects especially those with sexual exposure provides additional evidence that this route of transmission plays a key role in the epidemiology of gbvchgv the potential influence of gbvchgv infection on the course of hiv disease needs further DUE\\nLABEL: hepatitis g virus', metadata={'row': 5, 'source': '/Users/free001style/Library/Mobile Documents/com~apple~CloudDocs/HSE/HSE_/GANs/LLM/medal.csv'})]"
      ]
     },
     "execution_count": 47,
     "metadata": {},
     "output_type": "execute_result"
    }
   ],
   "source": [
    "retriever.invoke(\"hepatitis g virus\") # проверим, что поиск по индексу работает"
   ]
  },
  {
   "cell_type": "markdown",
   "metadata": {
    "id": "hhSWOTpLAMbO"
   },
   "source": [
    "### Задание 2. Prompt Engineering. Создание Prompt Template (3 балла)"
   ]
  },
  {
   "cell_type": "code",
   "execution_count": 57,
   "metadata": {
    "ExecuteTime": {
     "end_time": "2024-05-02T13:49:28.634388Z",
     "start_time": "2024-05-02T13:49:28.608055Z"
    },
    "id": "E0HWtofKj9dH"
   },
   "outputs": [],
   "source": [
    "from langchain.prompts import PromptTemplate\n",
    "\n",
    "\n",
    "SYSTEM_PROMPT = \"\"\"You are a doctor. You know everything about Medical Abbreviation Disambiguation.\"\"\"\n",
    "\n",
    "\n",
    "USE_HISTORY = False\n",
    "if USE_HISTORY:\n",
    "    instruction = \"\"\"\n",
    "    Use the following pieces of context to answer the question at the end. If you don't know the answer, just say that you don't know, don't try to make up an answer.\n",
    "    \"\"\"\n",
    "    prompt_template = \"\"\"\n",
    "    {system}\n",
    "\n",
    "    {instruction}\n",
    "\n",
    "    CONTEXT:\n",
    "    {context}\n",
    "\n",
    "    CHAT HISTORY:\n",
    "    {chat_history}\n",
    "\n",
    "    Question: \n",
    "    {question}\n",
    "\n",
    "    Answer:\"\"\"\n",
    "    prompt = PromptTemplate(template=prompt_template, input_variables=[\"context\", \"question\", \"chat_history\"], partial_variables={'system': SYSTEM_PROMPT, 'instruction': instruction})\n",
    "else:\n",
    "    instruction = \"\"\"\n",
    "    Use the following pieces of context to answer the question at the end. If you don't know the answer, just say that you don't know, don't try to make up an answer.\n",
    "    \"\"\"\n",
    "    prompt_template = \"\"\"\n",
    "    {system}\n",
    "\n",
    "    {instruction}\n",
    "\n",
    "    CONTEXT:\n",
    "    {context}\n",
    "\n",
    "    Question: \n",
    "    {question}\n",
    "\n",
    "    Answer:\"\"\"\n",
    "    prompt = PromptTemplate(template=prompt_template, input_variables=[\"context\", \"question\"], partial_variables={'system': SYSTEM_PROMPT, 'instruction': instruction})"
   ]
  },
  {
   "cell_type": "markdown",
   "metadata": {
    "id": "W_digc0KBW_Y"
   },
   "source": [
    "### Задание 3. Создание Chain (Langchain pipeline) (2 балла)"
   ]
  },
  {
   "cell_type": "code",
   "execution_count": 58,
   "metadata": {
    "ExecuteTime": {
     "end_time": "2024-05-02T13:49:32.007347Z",
     "start_time": "2024-05-02T13:49:32.002389Z"
    },
    "id": "zl5LxmQhl9Ea"
   },
   "outputs": [
    {
     "name": "stderr",
     "output_type": "stream",
     "text": [
      "ggml_metal_free: deallocating\n"
     ]
    }
   ],
   "source": [
    "from langchain_core.runnables import RunnablePassthrough\n",
    "from langchain_core.output_parsers.string import StrOutputParser\n",
    "\n",
    "def format_docs(docs):\n",
    "    return \"\\n\\n\".join(doc.page_content for doc in docs)\n",
    "\n",
    "chain = (\n",
    "    {\"context\": retriever | format_docs, \"question\": RunnablePassthrough()} | # feature engineering (retrieval augmentation)\n",
    "    prompt | # препроцессинг (prompt engineering)\n",
    "    llm | # модель\n",
    "    StrOutputParser() # постпроцессинг\n",
    ")"
   ]
  },
  {
   "cell_type": "code",
   "execution_count": 59,
   "metadata": {
    "ExecuteTime": {
     "end_time": "2024-05-02T14:19:33.869094Z",
     "start_time": "2024-05-02T14:02:01.808419Z"
    },
    "id": "XoyGeVBK7rKU"
   },
   "outputs": [
    {
     "name": "stdout",
     "output_type": "stream",
     "text": [
      "\n",
      "    \n",
      "    The treatment for pneumonia depends on the cause, severity, and underlying conditions of the patient. In general, the mainstay of therapy is antibiotics to eradicate or suppress the infection. Other supportive measures may include oxygen therapy, fluid resuscitation, nutritional support, mechanical ventilation, and intensive care unit management. The specific antibiotic regimen and duration of therapy depend on the suspected causative pathogens and their antimicrobial susceptibility patterns. Commonly used antibiotics for community-acquired pneumonia include macrolides such as azithromycin or clarithromycin, fluoroquinolones such as levofloxacin or moxifloxacin, and beta-lactam antibiotics such as amoxicillin or ceftriaxone. The choice of antibiotic regimen and duration of therapy depend on the specific clinical scenario, local resistance patterns, and available guidelines. In addition to antibiotic therapy, other supportive measures may be necessary to optimize the overall management of pneumonia in elderly patients with multiple comorbidities."
     ]
    },
    {
     "name": "stderr",
     "output_type": "stream",
     "text": [
      "\n",
      "llama_print_timings:        load time =    7886.99 ms\n",
      "llama_print_timings:      sample time =      25.25 ms /   247 runs   (    0.10 ms per token,  9782.57 tokens per second)\n",
      "llama_print_timings: prompt eval time =   13094.26 ms /  1706 tokens (    7.68 ms per token,   130.29 tokens per second)\n",
      "llama_print_timings:        eval time =   12102.67 ms /   246 runs   (   49.20 ms per token,    20.33 tokens per second)\n",
      "llama_print_timings:       total time =   25853.45 ms /  1952 tokens\n"
     ]
    },
    {
     "data": {
      "text/plain": [
       "'\\n    \\n    The treatment for pneumonia depends on the cause, severity, and underlying conditions of the patient. In general, the mainstay of therapy is antibiotics to eradicate or suppress the infection. Other supportive measures may include oxygen therapy, fluid resuscitation, nutritional support, mechanical ventilation, and intensive care unit management. The specific antibiotic regimen and duration of therapy depend on the suspected causative pathogens and their antimicrobial susceptibility patterns. Commonly used antibiotics for community-acquired pneumonia include macrolides such as azithromycin or clarithromycin, fluoroquinolones such as levofloxacin or moxifloxacin, and beta-lactam antibiotics such as amoxicillin or ceftriaxone. The choice of antibiotic regimen and duration of therapy depend on the specific clinical scenario, local resistance patterns, and available guidelines. In addition to antibiotic therapy, other supportive measures may be necessary to optimize the overall management of pneumonia in elderly patients with multiple comorbidities.'"
      ]
     },
     "execution_count": 59,
     "metadata": {},
     "output_type": "execute_result"
    }
   ],
   "source": [
    "chain.invoke('How to treat pneumonia?')"
   ]
  },
  {
   "cell_type": "code",
   "execution_count": 55,
   "metadata": {
    "id": "D9q4JYMrjIIW"
   },
   "outputs": [
    {
     "name": "stderr",
     "output_type": "stream",
     "text": [
      "Llama.generate: prefix-match hit\n"
     ]
    },
    {
     "name": "stdout",
     "output_type": "stream",
     "text": [
      " Ceftobiprole BPR, also known as Zemdri, is a cephalosporin antibiotic that is used to treat various types of bacterial infections. It is specifically indicated for the treatment of acute bacterial skin and skin structure infections caused by susceptible strains of gram-positive and gram-negative bacteria.\n",
      "    \n",
      "    Ceftobiprole BPR works by inhibiting the synthesis of bacterial peptidoglycan, which is a critical component of the bacterial cell wall. By disrupting the bacterial cell wall, ceftobiprole BPR is able to kill the susceptible bacterial strains and help to clear the infection.\n",
      "    \n",
      "    Ceftobiprole BPR is usually administered intravenously over a period of several hours, depending on the severity of the infection and other individual patient factors. In some cases, ceftobiprole BPR may be administered via other routes, such as intramuscular injection or topical application, depending on the specific clinical situation and the preferences of the prescribing healthcare provider.\n",
      "    \n",
      "    Overall, ceftobiprole BPR is"
     ]
    },
    {
     "name": "stderr",
     "output_type": "stream",
     "text": [
      "\n",
      "llama_print_timings:        load time =    9108.77 ms\n",
      "llama_print_timings:      sample time =      27.79 ms /   256 runs   (    0.11 ms per token,  9213.60 tokens per second)\n",
      "llama_print_timings: prompt eval time =    7871.92 ms /   668 tokens (   11.78 ms per token,    84.86 tokens per second)\n",
      "llama_print_timings:        eval time =   11430.21 ms /   255 runs   (   44.82 ms per token,    22.31 tokens per second)\n",
      "llama_print_timings:       total time =   19908.46 ms /   923 tokens\n"
     ]
    },
    {
     "data": {
      "text/plain": [
       "' Ceftobiprole BPR, also known as Zemdri, is a cephalosporin antibiotic that is used to treat various types of bacterial infections. It is specifically indicated for the treatment of acute bacterial skin and skin structure infections caused by susceptible strains of gram-positive and gram-negative bacteria.\\n    \\n    Ceftobiprole BPR works by inhibiting the synthesis of bacterial peptidoglycan, which is a critical component of the bacterial cell wall. By disrupting the bacterial cell wall, ceftobiprole BPR is able to kill the susceptible bacterial strains and help to clear the infection.\\n    \\n    Ceftobiprole BPR is usually administered intravenously over a period of several hours, depending on the severity of the infection and other individual patient factors. In some cases, ceftobiprole BPR may be administered via other routes, such as intramuscular injection or topical application, depending on the specific clinical situation and the preferences of the prescribing healthcare provider.\\n    \\n    Overall, ceftobiprole BPR is'"
      ]
     },
     "execution_count": 55,
     "metadata": {},
     "output_type": "execute_result"
    }
   ],
   "source": [
    "chain.invoke('Tell in details what is ceftobiprole bpr?')"
   ]
  },
  {
   "cell_type": "markdown",
   "metadata": {
    "id": "voT5veBTCzpZ"
   },
   "source": [
    "### Бонус (2 балла). Добавьте в пайплайн историю переписки с ботом\n",
    "Подсказка: langchain.memory.ConversationBufferMemory"
   ]
  },
  {
   "cell_type": "code",
   "execution_count": 74,
   "metadata": {
    "id": "ZcShzih_mcCc"
   },
   "outputs": [],
   "source": [
    "instruction = \"\"\"\n",
    "    Use the following pieces of context to answer the question at the end. If you don't know the answer, just say that you don't know, don't try to make up an answer.\n",
    "    \"\"\"\n",
    "prompt_template = \"\"\"\n",
    "    {system}\n",
    "\n",
    "    {instruction}\n",
    "\n",
    "    CONTEXT:\n",
    "    {context}\n",
    "\n",
    "    CHAT HISTORY:\n",
    "    {chat_history}\n",
    "\n",
    "    Question: \n",
    "    {question}\n",
    "\n",
    "    Answer:\"\"\"\n",
    "prompt = PromptTemplate(template=prompt_template, input_variables=[\"context\", \"question\", \"chat_history\"], partial_variables={'system': SYSTEM_PROMPT, 'instruction': instruction})"
   ]
  },
  {
   "cell_type": "code",
   "execution_count": 76,
   "metadata": {},
   "outputs": [],
   "source": [
    "from langchain.memory import ConversationBufferMemory\n",
    "from langchain.chains.conversational_retrieval.base import ConversationalRetrievalChain\n",
    "\n",
    "memory = ConversationBufferMemory(memory_key=\"chat_history\", input_key=\"question\", output_key='answer', return_messages=True)\n",
    "chain = ConversationalRetrievalChain.from_llm(llm=llm, chain_type=\"stuff\", retriever=retriever, verbose = True, combine_docs_chain_kwargs={'prompt': prompt}, memory = memory)"
   ]
  },
  {
   "cell_type": "code",
   "execution_count": 77,
   "metadata": {},
   "outputs": [
    {
     "name": "stdout",
     "output_type": "stream",
     "text": [
      "\n",
      "\n",
      "\u001b[1m> Entering new StuffDocumentsChain chain...\u001b[0m\n",
      "\n",
      "\n",
      "\u001b[1m> Entering new LLMChain chain...\u001b[0m\n",
      "Prompt after formatting:\n",
      "\u001b[32;1m\u001b[1;3m\n",
      "    You are a doctor. You know everything about Medical Abbreviation Disambiguation.\n",
      "\n",
      "    \n",
      "    Use the following pieces of context to answer the question at the end. If you don't know the answer, just say that you don't know, don't try to make up an answer.\n",
      "    \n",
      "\n",
      "    CONTEXT:\n",
      "    : 3456\n",
      "TEXT: communityacquired pneumonia cap is a L1 cause of morbidity and mortality in elderly patients therefore efforts to optimize the healthcare process for patients with cap are warranted an organized RPA to management is likely to improve clinical results assessing the severity of cap is crucial to predicting outcome deciding the site of care and selecting AGA empirical therapy unfortunately current prognostic scoring systems for cap such as curb confusion uraemia respiratory rate low blood pressure and years of age or the PSI have not been validated specifically in older adults in whom assessment of mortality risk CT might not be adequate for predicting outcomes obtaining a microbial diagnosis remains problematic and may be particularly challenging in frail elderly persons who may have greater difficulties producing sputum effective empirical treatment involves selection of a regimen with a spectrum of activity that includes the causative pathogen although most cases of cap are probably caused by a single pathogen dual and multiple infections are increasingly being reported streptococcus pneumoniae remains the overriding aetiological agent particularly in very elderly people however respiratory viruses and atypical organisms such as CT pneumoniae are being described with increasing frequency in old patients and aspiration pneumonia should also be taken into consideration particularly in very elderly subjects and those with PSD age years is a well established risk factor for infection with DR s pneumoniae clinicians should be aware of additional risk factors for acquiring less common pathogens or antibacterialresistant organisms that may suggest that additions or modifications to the basic empirical regimen are warranted in addition to administration of antibacterials AGA ST covering management of severe sepsis and SS respiratory failure as well as management of any decompensated underlying disease may be critical to improving outcomes in elderly patients with cap immunization with pneumococcal and influenza vaccines has also been demonstrated to be beneficial in numerous large studies there is good evidence that implementation of guidelines leads to improvement in clinical outcomes in elderly patients with cap including a reduction in mortality protocols should address a comprehensive set of elements in the process of care and should periodically be evaluated to measure their effects on clinically relevant outcomes assessment of functional clinical outcome variables in addition to survival is strongly recommended for this population\n",
      "LABEL: septic shock\n",
      "\n",
      ": 3973\n",
      "TEXT: five hundred ninety patients were enrolled in a prospective multicenter randomized trial comparing the efficacy and safety of to days of levofloxacin treatment with that of ceftriaxone andor CAE in the management of CAP in adults patients received either intravenous andor oral levofloxacin mg once daily or the comparative agents parenteral ceftriaxone to g once to twice daily andor oral CAE mg twice daily erythromycin or doxycycline could be added to the comparator arm at the investigators discretion the decision to use an intravenous or oral antimicrobial agent for initial therapy was made by the investigator clinical and microbiological evaluations were completed at the baseline during treatment to days posttherapy and to weeks posttherapy four hundred fiftysix patients given levofloxacin and administered ceftriaxone andor CAE were evaluable for clinical efficacy streptococcus pneumoniae and haemophilus influenzae were isolated in and respectively of clinically evaluable patients one hundred fifty atypical pathogens were identified were CT pneumoniae were MP and were Lp clinical success at to days posttherapy was superior for the levofloxacin group compared with the ceftriaxone andor cefuroxime axetil group confidence interval ci of to among patients with typical respiratory pathogens who were evaluable for microbiological efficacy the overall bacteriologic eradication rates were superior for levofloxacin compared with the ceftriaxone andor CAE group ci of to levofloxacin eradicated of the most frequently reported respiratory pathogens ie h influenzae and s pneumoniae and provided a clinical success rate in patients with atypical pathogens both levofloxacin and ceftriaxonecefuroxime axetil eradicated of the s pneumoniae cells detected in blood culture drugrelated adverse events were reported in of patients receiving levofloxacin and in of patients administered ceftriaxone andor cefuroxime axetil gastrointestinal and central and IP NS adverse events were the most common events reported in each TG in conclusion these results demonstrate that treatment with levofloxacin is superior to ceftriaxone andor CAE therapy in the management of CA pneumonia in adults\n",
      "LABEL: cefuroxime axetil\n",
      "\n",
      ": 2238\n",
      "TEXT: twentyeight patients with anaerobic pleuropulmonary infections were treated with clindamycin alone or CLI with gentamicin sixteen of the patients presented with pneumonitis nine with necrotizing pneumonia and three with lung abscesses the average length of treatment was days and the duration of temperature T3 initiation of therapy was days the predominant isolates were anaerobic grampositive cocci isolates bacteroides melaninogenicus bacteroides fragilis and fusobacterium nucleatum the most frequent aerobic isolates were AHS diplococcus pneumoniae PA klebsiella pneumoniae GABHS staphylococcus aureus and escherichia coli all patients responded to the therapy and were cured of the infection there were no SE observed from the administration of CLI none of the patients developed any blood dyscrasia CL damage diarrhea or colitis CLI appears to be effective in the treatment of mixed aerobic and anaerobic pleuropulmonary infections in children CT or with an aminoglycoside when indicated\n",
      "LABEL: alphahemolytic streptococci\n",
      "\n",
      ": 1261\n",
      "TEXT: SD of the OP and gastrointestinal tract with nonabsorbable antimicrobials and sucralfate a stress ulcer prophylactic that maintains the normal gastric acid bacterial barrier were compared for prevention of pneumonia in a cardiac surgery intensive ECU over months patients received SD and received sucralfate the SD regimen included polymyxin gentamicin and nystatin given as an oral paste and as a solution patients also received standard antacid or histamine blocker AS ulcer prophylaxis patients in the SD group had significantly less colonization of the oropharynx and stomach by GN bacilli vs p less than significantly fewer infections due to GNB vs p and fewer infections overall vs p there was one episode of pneumonia in the SD group and five in the sucralfate group mortality and length of stay did not differ between the groups but those receiving SD had less than onethird as many days of systemic antibiotic therapy with no increase in colonization or infection with resistant gramnegative bacilli thus SD appeared to reduce both extrapulmonary and pulmonary infections\n",
      "LABEL: selective decontamination\n",
      "\n",
      "    CHAT HISTORY:\n",
      "    \n",
      "\n",
      "    Question: \n",
      "    How to treat pneumonia?\n",
      "\n",
      "    Answer:\u001b[0m\n"
     ]
    },
    {
     "name": "stderr",
     "output_type": "stream",
     "text": [
      "Llama.generate: prefix-match hit\n"
     ]
    },
    {
     "name": "stdout",
     "output_type": "stream",
     "text": [
      " \n",
      "    Pneumonia is an infection that affects the lungs. The treatment for pneumonia depends on the cause and severity of the infection.\n",
      "\n",
      "    In general, the treatment for pneumonia involves rest, fluids, and antibiotics. Antibiotics are used to kill the bacteria causing the infection.\n",
      "\n",
      "    Depending on the severity of the infection, the patient may need to be hospitalized for intravenous antibiotics and close monitoring of their condition.\n",
      "\n",
      "    In some cases, the cause of pneumonia may be viral rather than bacterial. In these cases, antibiotics are not effective and supportive care such as rest, fluids, and oxygen therapy may be necessary to help the patient's body fight the virus.\n",
      "\n",
      "    Overall, the treatment for pneumonia depends on the cause and severity of the infection. Antibiotics may be necessary to treat bacterial infections, while supportive care may be necessary to help the body fight viral infections. Close monitoring of the patient's condition is essential to ensure that they receive appropriate and effective treatment for their pneumonia."
     ]
    },
    {
     "name": "stderr",
     "output_type": "stream",
     "text": [
      "\n",
      "llama_print_timings:        load time =    7886.99 ms\n",
      "llama_print_timings:      sample time =      26.63 ms /   240 runs   (    0.11 ms per token,  9012.39 tokens per second)\n",
      "llama_print_timings: prompt eval time =   11976.07 ms /  1636 tokens (    7.32 ms per token,   136.61 tokens per second)\n",
      "llama_print_timings:        eval time =   11580.39 ms /   239 runs   (   48.45 ms per token,    20.64 tokens per second)\n",
      "llama_print_timings:       total time =   24481.11 ms /  1875 tokens\n"
     ]
    },
    {
     "name": "stdout",
     "output_type": "stream",
     "text": [
      "\n",
      "\u001b[1m> Finished chain.\u001b[0m\n",
      "\n",
      "\u001b[1m> Finished chain.\u001b[0m\n"
     ]
    },
    {
     "data": {
      "text/plain": [
       "{'question': 'How to treat pneumonia?',\n",
       " 'chat_history': [HumanMessage(content='How to treat pneumonia?'),\n",
       "  AIMessage(content=\" \\n    Pneumonia is an infection that affects the lungs. The treatment for pneumonia depends on the cause and severity of the infection.\\n\\n    In general, the treatment for pneumonia involves rest, fluids, and antibiotics. Antibiotics are used to kill the bacteria causing the infection.\\n\\n    Depending on the severity of the infection, the patient may need to be hospitalized for intravenous antibiotics and close monitoring of their condition.\\n\\n    In some cases, the cause of pneumonia may be viral rather than bacterial. In these cases, antibiotics are not effective and supportive care such as rest, fluids, and oxygen therapy may be necessary to help the patient's body fight the virus.\\n\\n    Overall, the treatment for pneumonia depends on the cause and severity of the infection. Antibiotics may be necessary to treat bacterial infections, while supportive care may be necessary to help the body fight viral infections. Close monitoring of the patient's condition is essential to ensure that they receive appropriate and effective treatment for their pneumonia.\")],\n",
       " 'answer': \" \\n    Pneumonia is an infection that affects the lungs. The treatment for pneumonia depends on the cause and severity of the infection.\\n\\n    In general, the treatment for pneumonia involves rest, fluids, and antibiotics. Antibiotics are used to kill the bacteria causing the infection.\\n\\n    Depending on the severity of the infection, the patient may need to be hospitalized for intravenous antibiotics and close monitoring of their condition.\\n\\n    In some cases, the cause of pneumonia may be viral rather than bacterial. In these cases, antibiotics are not effective and supportive care such as rest, fluids, and oxygen therapy may be necessary to help the patient's body fight the virus.\\n\\n    Overall, the treatment for pneumonia depends on the cause and severity of the infection. Antibiotics may be necessary to treat bacterial infections, while supportive care may be necessary to help the body fight viral infections. Close monitoring of the patient's condition is essential to ensure that they receive appropriate and effective treatment for their pneumonia.\"}"
      ]
     },
     "execution_count": 77,
     "metadata": {},
     "output_type": "execute_result"
    }
   ],
   "source": [
    "chain.invoke('How to treat pneumonia?')"
   ]
  },
  {
   "cell_type": "code",
   "execution_count": 78,
   "metadata": {},
   "outputs": [
    {
     "name": "stdout",
     "output_type": "stream",
     "text": [
      "\n",
      "\n",
      "\u001b[1m> Entering new LLMChain chain...\u001b[0m\n",
      "Prompt after formatting:\n",
      "\u001b[32;1m\u001b[1;3mGiven the following conversation and a follow up question, rephrase the follow up question to be a standalone question, in its original language.\n",
      "\n",
      "Chat History:\n",
      "\n",
      "Human: How to treat pneumonia?\n",
      "Assistant:  \n",
      "    Pneumonia is an infection that affects the lungs. The treatment for pneumonia depends on the cause and severity of the infection.\n",
      "\n",
      "    In general, the treatment for pneumonia involves rest, fluids, and antibiotics. Antibiotics are used to kill the bacteria causing the infection.\n",
      "\n",
      "    Depending on the severity of the infection, the patient may need to be hospitalized for intravenous antibiotics and close monitoring of their condition.\n",
      "\n",
      "    In some cases, the cause of pneumonia may be viral rather than bacterial. In these cases, antibiotics are not effective and supportive care such as rest, fluids, and oxygen therapy may be necessary to help the patient's body fight the virus.\n",
      "\n",
      "    Overall, the treatment for pneumonia depends on the cause and severity of the infection. Antibiotics may be necessary to treat bacterial infections, while supportive care may be necessary to help the body fight viral infections. Close monitoring of the patient's condition is essential to ensure that they receive appropriate and effective treatment for their pneumonia.\n",
      "Follow Up Input: What do you mean saying Depending on the severity of the infection?\n",
      "Standalone question:\u001b[0m\n"
     ]
    },
    {
     "name": "stderr",
     "output_type": "stream",
     "text": [
      "Llama.generate: prefix-match hit\n"
     ]
    },
    {
     "name": "stdout",
     "output_type": "stream",
     "text": [
      " What factors determine the severity of pneumonia?"
     ]
    },
    {
     "name": "stderr",
     "output_type": "stream",
     "text": [
      "\n",
      "llama_print_timings:        load time =    7886.99 ms\n",
      "llama_print_timings:      sample time =       2.17 ms /    12 runs   (    0.18 ms per token,  5524.86 tokens per second)\n",
      "llama_print_timings: prompt eval time =    6750.75 ms /   313 tokens (   21.57 ms per token,    46.37 tokens per second)\n",
      "llama_print_timings:        eval time =     494.03 ms /    11 runs   (   44.91 ms per token,    22.27 tokens per second)\n",
      "llama_print_timings:       total time =    7306.76 ms /   324 tokens\n"
     ]
    },
    {
     "name": "stdout",
     "output_type": "stream",
     "text": [
      "\n",
      "\u001b[1m> Finished chain.\u001b[0m\n",
      "\n",
      "\n",
      "\u001b[1m> Entering new StuffDocumentsChain chain...\u001b[0m\n",
      "\n",
      "\n",
      "\u001b[1m> Entering new LLMChain chain...\u001b[0m\n",
      "Prompt after formatting:\n",
      "\u001b[32;1m\u001b[1;3m\n",
      "    You are a doctor. You know everything about Medical Abbreviation Disambiguation.\n",
      "\n",
      "    \n",
      "    Use the following pieces of context to answer the question at the end. If you don't know the answer, just say that you don't know, don't try to make up an answer.\n",
      "    \n",
      "\n",
      "    CONTEXT:\n",
      "    : 1952\n",
      "TEXT: an epidemic outbreak of acute respiratory infection patients in an organized group of young people was observed in decembermay pneumococcal etiology was established by means of indirect immunofluorescence reaction in cases of outpatient pneumonia AB and acute respiratory diseases respiratory chlamydiosis caused by CT pneumoniae was detected in enzyme immunoassay with the use of immunocomb CT bivalent igg in patients with pneumonia acute bronchitis and acute respiratory diseases synergic relationship between pneumococcal and chlamydial infections was noted\n",
      "LABEL: chlamydia\n",
      "\n",
      ": 1986\n",
      "TEXT: we have evaluated over a mean follow up period of sd years the lung function in a group of workers according to the presence workers or absence workers of PP at chest rxfilmshrct a generalized estimating equation gee approach was used to investigate the relation between the loss of pulmonary function and i presenceabsence of pleural plaques ii smoking status and iii work seniority in work places with exposure to asbestos the mean age at the first examination was sd years and work seniority sd years multivariate gee RPA to age and heightadjusted spirometric data measures of vc fev and determinations of tlc showed that PP were not associated with significant loss of pulmonary CF sm or py when compared with nosmokers showed significant loss of vc p fev p and tlc p an occupational history in work places with SE to asbestos ship buildingrepairing was significantly associated with a slight but significant p year decrease in vc and fev\n",
      "LABEL: pleural plaques\n",
      "\n",
      ": 1986\n",
      "TEXT: we have evaluated over a mean follow up period of sd years the lung function in a group of workers according to the presence workers or absence workers of PP at chest rxfilmshrct a generalized estimating equation gee approach was used to investigate the relation between the loss of pulmonary function and i presenceabsence of pleural plaques ii smoking status and iii work seniority in work places with exposure to asbestos the mean age at the first examination was sd years and work seniority sd years multivariate gee RPA to age and heightadjusted spirometric data measures of vc fev and determinations of tlc showed that PP were not associated with significant loss of pulmonary CF sm or py when compared with nosmokers showed significant loss of vc p fev p and tlc p an occupational history in work places with SE to asbestos ship buildingrepairing was significantly associated with a slight but significant p year decrease in vc and fev\n",
      "LABEL: pleural plaques\n",
      "\n",
      ": 1986\n",
      "TEXT: we have evaluated over a mean follow up period of sd years the lung function in a group of workers according to the presence workers or absence workers of PP at chest rxfilmshrct a generalized estimating equation gee approach was used to investigate the relation between the loss of pulmonary function and i presenceabsence of pleural plaques ii smoking status and iii work seniority in work places with exposure to asbestos the mean age at the first examination was sd years and work seniority sd years multivariate gee RPA to age and heightadjusted spirometric data measures of vc fev and determinations of tlc showed that PP were not associated with significant loss of pulmonary CF sm or py when compared with nosmokers showed significant loss of vc p fev p and tlc p an occupational history in work places with SE to asbestos ship buildingrepairing was significantly associated with a slight but significant p year decrease in vc and fev\n",
      "LABEL: pleural plaques\n",
      "\n",
      "    CHAT HISTORY:\n",
      "    \n",
      "Human: How to treat pneumonia?\n",
      "Assistant:  \n",
      "    Pneumonia is an infection that affects the lungs. The treatment for pneumonia depends on the cause and severity of the infection.\n",
      "\n",
      "    In general, the treatment for pneumonia involves rest, fluids, and antibiotics. Antibiotics are used to kill the bacteria causing the infection.\n",
      "\n",
      "    Depending on the severity of the infection, the patient may need to be hospitalized for intravenous antibiotics and close monitoring of their condition.\n",
      "\n",
      "    In some cases, the cause of pneumonia may be viral rather than bacterial. In these cases, antibiotics are not effective and supportive care such as rest, fluids, and oxygen therapy may be necessary to help the patient's body fight the virus.\n",
      "\n",
      "    Overall, the treatment for pneumonia depends on the cause and severity of the infection. Antibiotics may be necessary to treat bacterial infections, while supportive care may be necessary to help the body fight viral infections. Close monitoring of the patient's condition is essential to ensure that they receive appropriate and effective treatment for their pneumonia.\n",
      "\n",
      "    Question: \n",
      "     What factors determine the severity of pneumonia?\n",
      "\n",
      "    Answer:\u001b[0m\n"
     ]
    },
    {
     "name": "stderr",
     "output_type": "stream",
     "text": [
      "Llama.generate: prefix-match hit\n"
     ]
    },
    {
     "name": "stdout",
     "output_type": "stream",
     "text": [
      " \n",
      "     The severity of pneumonia depends on several factors, including the cause of the infection, the patient's age and underlying health conditions, and the extent of lung involvement. Bacterial infections, such as those caused by Streptococcus pneumoniae or Haemophilus influenzae, tend to be more severe than viral infections. Additionally, older adults and those with chronic health conditions, such as heart disease, diabetes, or chronic obstructive pulmonary disease (COPD), are more susceptible to developing severe cases of pneumonia. Finally, the extent of lung involvement, which can vary from mild to life-threatening, also plays a role in determining the severity of pneumonia. Close monitoring of patients with pneumonia is essential to ensure that they receive appropriate and effective treatment for their condition."
     ]
    },
    {
     "name": "stderr",
     "output_type": "stream",
     "text": [
      "\n",
      "llama_print_timings:        load time =    7886.99 ms\n",
      "llama_print_timings:      sample time =      21.30 ms /   182 runs   (    0.12 ms per token,  8544.60 tokens per second)\n",
      "llama_print_timings: prompt eval time =    5156.74 ms /  1198 tokens (    4.30 ms per token,   232.32 tokens per second)\n",
      "llama_print_timings:        eval time =    8699.42 ms /   181 runs   (   48.06 ms per token,    20.81 tokens per second)\n",
      "llama_print_timings:       total time =   14310.82 ms /  1379 tokens\n"
     ]
    },
    {
     "name": "stdout",
     "output_type": "stream",
     "text": [
      "\n",
      "\u001b[1m> Finished chain.\u001b[0m\n",
      "\n",
      "\u001b[1m> Finished chain.\u001b[0m\n"
     ]
    },
    {
     "data": {
      "text/plain": [
       "{'question': 'What do you mean saying Depending on the severity of the infection?',\n",
       " 'chat_history': [HumanMessage(content='How to treat pneumonia?'),\n",
       "  AIMessage(content=\" \\n    Pneumonia is an infection that affects the lungs. The treatment for pneumonia depends on the cause and severity of the infection.\\n\\n    In general, the treatment for pneumonia involves rest, fluids, and antibiotics. Antibiotics are used to kill the bacteria causing the infection.\\n\\n    Depending on the severity of the infection, the patient may need to be hospitalized for intravenous antibiotics and close monitoring of their condition.\\n\\n    In some cases, the cause of pneumonia may be viral rather than bacterial. In these cases, antibiotics are not effective and supportive care such as rest, fluids, and oxygen therapy may be necessary to help the patient's body fight the virus.\\n\\n    Overall, the treatment for pneumonia depends on the cause and severity of the infection. Antibiotics may be necessary to treat bacterial infections, while supportive care may be necessary to help the body fight viral infections. Close monitoring of the patient's condition is essential to ensure that they receive appropriate and effective treatment for their pneumonia.\"),\n",
       "  HumanMessage(content='What do you mean saying Depending on the severity of the infection?'),\n",
       "  AIMessage(content=\" \\n     The severity of pneumonia depends on several factors, including the cause of the infection, the patient's age and underlying health conditions, and the extent of lung involvement. Bacterial infections, such as those caused by Streptococcus pneumoniae or Haemophilus influenzae, tend to be more severe than viral infections. Additionally, older adults and those with chronic health conditions, such as heart disease, diabetes, or chronic obstructive pulmonary disease (COPD), are more susceptible to developing severe cases of pneumonia. Finally, the extent of lung involvement, which can vary from mild to life-threatening, also plays a role in determining the severity of pneumonia. Close monitoring of patients with pneumonia is essential to ensure that they receive appropriate and effective treatment for their condition.\")],\n",
       " 'answer': \" \\n     The severity of pneumonia depends on several factors, including the cause of the infection, the patient's age and underlying health conditions, and the extent of lung involvement. Bacterial infections, such as those caused by Streptococcus pneumoniae or Haemophilus influenzae, tend to be more severe than viral infections. Additionally, older adults and those with chronic health conditions, such as heart disease, diabetes, or chronic obstructive pulmonary disease (COPD), are more susceptible to developing severe cases of pneumonia. Finally, the extent of lung involvement, which can vary from mild to life-threatening, also plays a role in determining the severity of pneumonia. Close monitoring of patients with pneumonia is essential to ensure that they receive appropriate and effective treatment for their condition.\"}"
      ]
     },
     "execution_count": 78,
     "metadata": {},
     "output_type": "execute_result"
    }
   ],
   "source": [
    "chain.invoke(\"What do you mean saying Depending on the severity of the infection?\")"
   ]
  }
 ],
 "metadata": {
  "accelerator": "GPU",
  "colab": {
   "gpuType": "T4",
   "provenance": []
  },
  "kernelspec": {
   "display_name": "Python 3 (ipykernel)",
   "language": "python",
   "name": "python3"
  },
  "language_info": {
   "codemirror_mode": {
    "name": "ipython",
    "version": 3
   },
   "file_extension": ".py",
   "mimetype": "text/x-python",
   "name": "python",
   "nbconvert_exporter": "python",
   "pygments_lexer": "ipython3",
   "version": "3.11.7"
  }
 },
 "nbformat": 4,
 "nbformat_minor": 0
}
